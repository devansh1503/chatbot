{
 "cells": [
  {
   "cell_type": "code",
   "execution_count": 4,
   "metadata": {},
   "outputs": [
    {
     "name": "stdout",
     "output_type": "stream",
     "text": [
      "WARNING:tensorflow:From C:\\Users\\Devansh\\AppData\\Local\\Programs\\Python\\Python39\\lib\\site-packages\\tensorflow\\python\\compat\\v2_compat.py:111: disable_resource_variables (from tensorflow.python.ops.variable_scope) is deprecated and will be removed in a future version.\n",
      "Instructions for updating:\n",
      "non-resource variables are not supported in the long term\n",
      "curses is not supported on this machine (please install/reinstall curses for an optimal experience)\n"
     ]
    }
   ],
   "source": [
    "import nltk\n",
    "from nltk.stem.lancaster import LancasterStemmer\n",
    "stemmer = LancasterStemmer()\n",
    "import numpy\n",
    "import tflearn\n",
    "import tensorflow\n",
    "import random\n",
    "import json"
   ]
  },
  {
   "cell_type": "code",
   "execution_count": 5,
   "metadata": {},
   "outputs": [
    {
     "data": {
      "text/plain": [
       "{'intents': [{'tag': 'greeting',\n",
       "   'patterns': ['Hi',\n",
       "    'How are you',\n",
       "    'Is anyone there?',\n",
       "    'Hello',\n",
       "    'Good day',\n",
       "    'Whats up'],\n",
       "   'responses': ['Hello!',\n",
       "    'Good to see you again!',\n",
       "    'Hi there, how can I help?'],\n",
       "   'context_set': ''},\n",
       "  {'tag': 'goodbye',\n",
       "   'patterns': ['cya',\n",
       "    'See you later',\n",
       "    'Goodbye',\n",
       "    'I am Leaving',\n",
       "    'Have a Good day'],\n",
       "   'responses': ['Sad to see you go :(', 'Talk to you later', 'Goodbye!'],\n",
       "   'context_set': ''},\n",
       "  {'tag': 'age',\n",
       "   'patterns': ['how old',\n",
       "    'how old is Devansh',\n",
       "    'what is your age',\n",
       "    'how old are you',\n",
       "    'age?'],\n",
       "   'responses': ['I am 19 years old!',\n",
       "    '19 years young!',\n",
       "    'Old enough to adopt you now'],\n",
       "   'context_set': ''},\n",
       "  {'tag': 'name',\n",
       "   'patterns': ['what is your name',\n",
       "    'what should I call you',\n",
       "    'whats your name?'],\n",
       "   'responses': ['You can call me Devansh, or Dev, or Sweety!',\n",
       "    \"I'm Devansh!\",\n",
       "    \"I'm Devansh the LEGEND!\"],\n",
       "   'context_set': ''},\n",
       "  {'tag': 'study',\n",
       "   'patterns': ['Where do you study',\n",
       "    'What do you study',\n",
       "    'College?',\n",
       "    'What is your education?',\n",
       "    'Education?',\n",
       "    'What do you do?',\n",
       "    'Are you in a college?'],\n",
       "   'responses': ['I am studying computer science at Chitkara University'],\n",
       "   'context_set': ''},\n",
       "  {'tag': 'jokes',\n",
       "   'patterns': ['Tell me a joke',\n",
       "    'make me laugh',\n",
       "    'joke',\n",
       "    'Can you tell a joke?',\n",
       "    'Are you funny?',\n",
       "    'Funny?',\n",
       "    'Tell a joke Devansh'],\n",
       "   'responses': [\"I failed maths so many times at school, I can't even count\",\n",
       "    \"Don't you hate when someone answers their own questions? I do.\"],\n",
       "   'context_set': ''},\n",
       "  {'tag': 'movie',\n",
       "   'patterns': ['What is your favourite movie?',\n",
       "    'movie?',\n",
       "    'watch',\n",
       "    'What do you recommend watching?',\n",
       "    'Which movie do you like?',\n",
       "    'Do you like movies?',\n",
       "    'Tell me something to watch',\n",
       "    'Tell me some movies'],\n",
       "   'responses': ['I like Joker, Taxi Driver, King of comedy and many thrillers like these',\n",
       "    'I like watching Godfather triology',\n",
       "    'Marvel movies are great!'],\n",
       "   'context_set': ''},\n",
       "  {'tag': 'food',\n",
       "   'patterns': ['What do you like eating?',\n",
       "    'What is your favourite food?',\n",
       "    'Do you like eating?',\n",
       "    'What food do you like?',\n",
       "    'What do you like to eat?',\n",
       "    'eat',\n",
       "    'food'],\n",
       "   'responses': ['I like eating Indian food',\n",
       "    'I normally eat regular Indian food, but I like burgers,',\n",
       "    'Pizza Time!'],\n",
       "   'context_set': ''},\n",
       "  {'tag': 'facts',\n",
       "   'patterns': ['Tell me a fact',\n",
       "    'Devansh do you know some fun facts?',\n",
       "    'facts',\n",
       "    'fun fact'],\n",
       "   'responses': [\"Elephants can't jump\",\n",
       "    'Octopuses have three hearts',\n",
       "    'Pyscho was the first movie to show toilet flushing',\n",
       "    \"Skin is body's largest organ\"],\n",
       "   'context_set': ''}]}"
      ]
     },
     "execution_count": 5,
     "metadata": {},
     "output_type": "execute_result"
    }
   ],
   "source": [
    "with open(\"intents.json\") as file:\n",
    "    data = json.load(file)\n",
    "data"
   ]
  },
  {
   "cell_type": "code",
   "execution_count": 6,
   "metadata": {},
   "outputs": [
    {
     "name": "stderr",
     "output_type": "stream",
     "text": [
      "[nltk_data] Downloading package punkt to\n",
      "[nltk_data]     C:\\Users\\Devansh\\AppData\\Roaming\\nltk_data...\n",
      "[nltk_data]   Package punkt is already up-to-date!\n"
     ]
    },
    {
     "data": {
      "text/plain": [
       "True"
      ]
     },
     "execution_count": 6,
     "metadata": {},
     "output_type": "execute_result"
    }
   ],
   "source": [
    "nltk.download('punkt')"
   ]
  },
  {
   "cell_type": "code",
   "execution_count": 7,
   "metadata": {},
   "outputs": [],
   "source": [
    "words = []\n",
    "labels=[]\n",
    "docs_x=[]\n",
    "docs_y=[]\n",
    "for intent in data[\"intents\"]:\n",
    "    for pattern in intent[\"patterns\"]:\n",
    "        wrds = nltk.word_tokenize(pattern) #splits the words in the sentences of patterns\n",
    "        words.extend(wrds)\n",
    "        docs_x.append(wrds)\n",
    "        docs_y.append(intent[\"tag\"])\n",
    "    if intent[\"tag\"] not in labels:\n",
    "        labels.append(intent[\"tag\"])\n",
    "\n",
    "         "
   ]
  },
  {
   "cell_type": "code",
   "execution_count": 8,
   "metadata": {},
   "outputs": [],
   "source": [
    "words = [stemmer.stem(w.lower()) for w in words if w != \"?\"]\n",
    "words = sorted(list(set(words)))\n",
    "labels = sorted(labels)"
   ]
  },
  {
   "cell_type": "code",
   "execution_count": 9,
   "metadata": {},
   "outputs": [],
   "source": [
    "training = []\n",
    "output = []\n",
    "out_empty = [0 for _ in range(len(labels))]\n",
    "\n",
    "for x,doc in enumerate(docs_x):\n",
    "    bag=[]\n",
    "    wrds = [stemmer.stem(w) for w in doc]\n",
    "    for w in words:\n",
    "        if w in wrds:\n",
    "            bag.append(1)\n",
    "        else:\n",
    "            bag.append(0)\n",
    "    output_row = out_empty[:]\n",
    "    output_row[labels.index(docs_y[x])] = 1\n",
    "    training.append(bag)\n",
    "    output.append(output_row)"
   ]
  },
  {
   "cell_type": "code",
   "execution_count": 10,
   "metadata": {},
   "outputs": [],
   "source": [
    "traing = numpy.array(training)\n",
    "output = numpy.array(output)"
   ]
  },
  {
   "cell_type": "code",
   "execution_count": 11,
   "metadata": {},
   "outputs": [
    {
     "name": "stdout",
     "output_type": "stream",
     "text": [
      "WARNING:tensorflow:From C:\\Users\\Devansh\\AppData\\Local\\Programs\\Python\\Python39\\lib\\site-packages\\tflearn\\initializations.py:164: calling TruncatedNormal.__init__ (from tensorflow.python.ops.init_ops) with dtype is deprecated and will be removed in a future version.\n",
      "Instructions for updating:\n",
      "Call initializer instance with the dtype argument instead of passing it to the constructor\n"
     ]
    }
   ],
   "source": [
    "tensorflow.compat.v1.reset_default_graph()\n",
    "net = tflearn.input_data(shape=[None, len(training[0])])\n",
    "net = tflearn.fully_connected(net,8)\n",
    "net = tflearn.fully_connected(net,8)\n",
    "net = tflearn.fully_connected(net,len(output[0]),activation=\"softmax\")\n",
    "net = tflearn.regression(net)\n",
    "model = tflearn.DNN(net)"
   ]
  },
  {
   "cell_type": "code",
   "execution_count": 9,
   "metadata": {},
   "outputs": [
    {
     "name": "stdout",
     "output_type": "stream",
     "text": [
      "Training Step: 6999  | total loss: \u001b[1m\u001b[32m0.00391\u001b[0m\u001b[0m | time: 0.028s\n",
      "| Adam | epoch: 1000 | loss: 0.00391 - acc: 1.0000 -- iter: 48/52\n",
      "Training Step: 7000  | total loss: \u001b[1m\u001b[32m0.00374\u001b[0m\u001b[0m | time: 0.032s\n",
      "| Adam | epoch: 1000 | loss: 0.00374 - acc: 1.0000 -- iter: 52/52\n",
      "--\n",
      "INFO:tensorflow:c:\\Users\\Devansh\\Documents\\machine learning\\Chatbot\\model.tflearn is not in all_model_checkpoint_paths. Manually adding it.\n"
     ]
    }
   ],
   "source": [
    "model.fit(training,output, n_epoch=1000, batch_size=8, show_metric=True)\n",
    "model.save(\"model.tflearn\")"
   ]
  },
  {
   "cell_type": "code",
   "execution_count": 10,
   "metadata": {},
   "outputs": [],
   "source": [
    "def bag_of_words(s,words):\n",
    "    bag=[0 for _ in range(len(words))]\n",
    "    s_words = nltk.word_tokenize(s)\n",
    "    s_words = [stemmer.stem(word.lower()) for word in s_words]\n",
    "    for se in s_words:\n",
    "        for i,w in enumerate(words):\n",
    "            if w==se:\n",
    "                bag[i]=(1)\n",
    "    return numpy.array(bag)"
   ]
  },
  {
   "cell_type": "code",
   "execution_count": 11,
   "metadata": {},
   "outputs": [],
   "source": [
    "def chat():\n",
    "    print(\"Start Talking (Type quit to stop)\")\n",
    "    while True:\n",
    "        inp = input(\"You: \")\n",
    "        if(inp.lower == \"quit\"):\n",
    "            break\n",
    "        res = model.predict([bag_of_words(inp,words)])\n",
    "        res_index = numpy.argmax(res)\n",
    "        tag = labels[res_index]\n",
    "        for tg in data[\"intents\"]:\n",
    "            if tg[\"tag\"] == tag:\n",
    "                responses = tg['responses']\n",
    "        print(random.choice(responses))\n"
   ]
  },
  {
   "cell_type": "code",
   "execution_count": 2,
   "metadata": {},
   "outputs": [
    {
     "ename": "NameError",
     "evalue": "name 'chat' is not defined",
     "output_type": "error",
     "traceback": [
      "\u001b[1;31m---------------------------------------------------------------------------\u001b[0m",
      "\u001b[1;31mNameError\u001b[0m                                 Traceback (most recent call last)",
      "\u001b[1;32m<ipython-input-2-e57ee30c65ef>\u001b[0m in \u001b[0;36m<module>\u001b[1;34m\u001b[0m\n\u001b[1;32m----> 1\u001b[1;33m \u001b[0mchat\u001b[0m\u001b[1;33m(\u001b[0m\u001b[1;33m)\u001b[0m\u001b[1;33m\u001b[0m\u001b[1;33m\u001b[0m\u001b[0m\n\u001b[0m",
      "\u001b[1;31mNameError\u001b[0m: name 'chat' is not defined"
     ]
    }
   ],
   "source": [
    "chat()"
   ]
  },
  {
   "cell_type": "code",
   "execution_count": 14,
   "metadata": {},
   "outputs": [
    {
     "data": {
      "text/plain": [
       "9"
      ]
     },
     "execution_count": 14,
     "metadata": {},
     "output_type": "execute_result"
    }
   ],
   "source": [
    "len(output[0])"
   ]
  }
 ],
 "metadata": {
  "interpreter": {
   "hash": "4e4149bc7421ca705a495cb58bc44dc4cc92dc4a9592f5e3bb92c54cb570f098"
  },
  "kernelspec": {
   "display_name": "Python 3.9.0 64-bit",
   "language": "python",
   "name": "python3"
  },
  "language_info": {
   "codemirror_mode": {
    "name": "ipython",
    "version": 3
   },
   "file_extension": ".py",
   "mimetype": "text/x-python",
   "name": "python",
   "nbconvert_exporter": "python",
   "pygments_lexer": "ipython3",
   "version": "3.9.0"
  },
  "orig_nbformat": 4
 },
 "nbformat": 4,
 "nbformat_minor": 2
}
